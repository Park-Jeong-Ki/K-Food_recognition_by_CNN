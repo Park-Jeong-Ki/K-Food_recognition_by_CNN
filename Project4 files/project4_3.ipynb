{
  "nbformat": 4,
  "nbformat_minor": 0,
  "metadata": {
    "colab": {
      "name": "project4_3.ipynb",
      "provenance": []
    },
    "kernelspec": {
      "name": "python3",
      "display_name": "Python 3"
    },
    "language_info": {
      "name": "python"
    },
    "accelerator": "GPU"
  },
  "cells": [
    {
      "cell_type": "code",
      "metadata": {
        "colab": {
          "base_uri": "https://localhost:8080/"
        },
        "id": "V05eHiqd05Uz",
        "outputId": "608e03d1-710a-444f-ef22-de037a5400e9"
      },
      "source": [
        "from google.colab import drive\n",
        "drive.mount('/content/drive')"
      ],
      "execution_count": 1,
      "outputs": [
        {
          "output_type": "stream",
          "text": [
            "Mounted at /content/drive\n"
          ],
          "name": "stdout"
        }
      ]
    },
    {
      "cell_type": "code",
      "metadata": {
        "colab": {
          "base_uri": "https://localhost:8080/"
        },
        "id": "x2JD2c1T06ed",
        "outputId": "b6d50204-e847-493d-8c45-5d697f15cb07"
      },
      "source": [
        "!nvidia-smi"
      ],
      "execution_count": 2,
      "outputs": [
        {
          "output_type": "stream",
          "text": [
            "Wed Jun 30 13:21:58 2021       \n",
            "+-----------------------------------------------------------------------------+\n",
            "| NVIDIA-SMI 465.27       Driver Version: 460.32.03    CUDA Version: 11.2     |\n",
            "|-------------------------------+----------------------+----------------------+\n",
            "| GPU  Name        Persistence-M| Bus-Id        Disp.A | Volatile Uncorr. ECC |\n",
            "| Fan  Temp  Perf  Pwr:Usage/Cap|         Memory-Usage | GPU-Util  Compute M. |\n",
            "|                               |                      |               MIG M. |\n",
            "|===============================+======================+======================|\n",
            "|   0  Tesla T4            Off  | 00000000:00:04.0 Off |                    0 |\n",
            "| N/A   52C    P8    10W /  70W |      0MiB / 15109MiB |      0%      Default |\n",
            "|                               |                      |                  N/A |\n",
            "+-------------------------------+----------------------+----------------------+\n",
            "                                                                               \n",
            "+-----------------------------------------------------------------------------+\n",
            "| Processes:                                                                  |\n",
            "|  GPU   GI   CI        PID   Type   Process name                  GPU Memory |\n",
            "|        ID   ID                                                   Usage      |\n",
            "|=============================================================================|\n",
            "|  No running processes found                                                 |\n",
            "+-----------------------------------------------------------------------------+\n"
          ],
          "name": "stdout"
        }
      ]
    },
    {
      "cell_type": "code",
      "metadata": {
        "id": "poqDC3lv1GFO"
      },
      "source": [
        "!unzip -qq '/content/drive/MyDrive/food-101.zip'"
      ],
      "execution_count": 3,
      "outputs": []
    },
    {
      "cell_type": "code",
      "metadata": {
        "id": "yAfNn3Ky1Ogt"
      },
      "source": [
        "%%capture\n",
        "import os\n",
        "from collections import defaultdict\n",
        "import shutil, sys \n",
        "\n",
        "if not os.path.isdir('/content/food-101/test') or not os.path.isdir('/content/food-101/train'):\n",
        "\n",
        "    def copytree(src, dst, symlinks = False, ignore = None):\n",
        "        if not os.path.exists(dst):\n",
        "            os.makedirs(dst)\n",
        "            shutil.copystat(src, dst)\n",
        "        lst = os.listdir(src)\n",
        "        if ignore:\n",
        "            excl = ignore(src, lst)\n",
        "            lst = [x for x in lst if x not in excl]\n",
        "        for item in lst:\n",
        "            s = os.path.join(src, item)\n",
        "            d = os.path.join(dst, item)\n",
        "            if symlinks and os.path.islink(s):\n",
        "                if os.path.lexists(d):\n",
        "                    os.remove(d)\n",
        "                os.symlink(os.readlink(s), d)\n",
        "                try:\n",
        "                    st = os.lstat(s)\n",
        "                    mode = stat.S_IMODE(st.st_mode)\n",
        "                    os.lchmod(d, mode)\n",
        "                except:\n",
        "                    pass # lchmod not available\n",
        "            elif os.path.isdir(s):\n",
        "                copytree(s, d, symlinks, ignore)\n",
        "            else:\n",
        "                shutil.copy2(s, d)\n",
        "\n",
        "    def generate_dir_file_map(path):\n",
        "        dir_files = defaultdict(list)\n",
        "        with open(path, 'r') as txt:\n",
        "            files = [l.strip() for l in txt.readlines()]\n",
        "            for f in files:\n",
        "                dir_name, id = f.split('/')\n",
        "                dir_files[dir_name].append(id + '.jpg')\n",
        "        return dir_files\n",
        "\n",
        "    train_dir_files = generate_dir_file_map('/content/meta/meta/train.txt')\n",
        "    test_dir_files = generate_dir_file_map('/content/meta/meta/test.txt')\n",
        "\n",
        "\n",
        "    def ignore_train(d, filenames):\n",
        "        print(d)\n",
        "        subdir = d.split('/')[-1]\n",
        "        to_ignore = train_dir_files[subdir]\n",
        "        return to_ignore\n",
        "\n",
        "    def ignore_test(d, filenames):\n",
        "        print(d)\n",
        "        subdir = d.split('/')[-1]\n",
        "        to_ignore = test_dir_files[subdir]\n",
        "        return to_ignore\n",
        "\n",
        "    copytree('/content/images', '/content/food-101/test', ignore=ignore_train)\n",
        "    copytree('/content/images', '/content/food-101/train', ignore=ignore_test)\n",
        "    \n",
        "else:\n",
        "    print('Train/Test files already copied into separate folders.')"
      ],
      "execution_count": 4,
      "outputs": []
    },
    {
      "cell_type": "code",
      "metadata": {
        "colab": {
          "base_uri": "https://localhost:8080/"
        },
        "id": "7aSovHRR2ybG",
        "outputId": "a8c0a238-ae3d-4233-a8ab-9b7056bdf470"
      },
      "source": [
        "os.path.isdir('/content/food-101/train')\n",
        "os.path.isdir('/content/food-101/test')"
      ],
      "execution_count": 5,
      "outputs": [
        {
          "output_type": "execute_result",
          "data": {
            "text/plain": [
              "True"
            ]
          },
          "metadata": {
            "tags": []
          },
          "execution_count": 5
        }
      ]
    },
    {
      "cell_type": "code",
      "metadata": {
        "id": "O0HUgUSs3abX"
      },
      "source": [
        "from __future__ import print_function\n",
        "from __future__ import division\n",
        "\n",
        "\n",
        "from keras.preprocessing.image import load_img, img_to_array, ImageDataGenerator\n",
        "from keras.applications.resnet50 import ResNet50\n",
        "from keras.layers import GlobalAveragePooling2D, Dropout\n",
        "from keras.callbacks import ModelCheckpoint\n",
        "from keras.models import Model, load_model\n",
        "from keras.layers import Dense\n",
        "from keras.layers import Input\n",
        "import numpy as np\n",
        "import argparse"
      ],
      "execution_count": 6,
      "outputs": []
    },
    {
      "cell_type": "code",
      "metadata": {
        "id": "XwSNFs7W3eNe"
      },
      "source": [
        "def setup_generator(train_path, test_path, batch_size, dimentions):\n",
        "    train_datagen = ImageDataGenerator(\n",
        "        rotation_range=40,\n",
        "        width_shift_range=0.2,\n",
        "        height_shift_range=0.2,\n",
        "        rescale=1. / 255,\n",
        "        shear_range=0.2,\n",
        "        zoom_range=0.2,\n",
        "        horizontal_flip=True,\n",
        "        fill_mode='nearest')\n",
        "\n",
        "    test_datagen = ImageDataGenerator(rescale=1. / 255)\n",
        "\n",
        "    train_generator = train_datagen.flow_from_directory(\n",
        "        train_path,  # this is the target directory\n",
        "        target_size=dimentions,\n",
        "        batch_size=batch_size)\n",
        "\n",
        "    validation_generator = test_datagen.flow_from_directory(\n",
        "        test_path, # this is the target directory\n",
        "        target_size=dimentions,\n",
        "        batch_size=batch_size)\n",
        "\n",
        "    return train_generator, validation_generator"
      ],
      "execution_count": 7,
      "outputs": []
    },
    {
      "cell_type": "code",
      "metadata": {
        "id": "Ey27sTzZ3jAe"
      },
      "source": [
        "def load_image(img_path, dimentions, rescale=1. / 255):\n",
        "    img = image.load_img(img_path, target_size=dimentions)\n",
        "    x = image.img_to_array(img)\n",
        "    x = np.expand_dims(x, axis=0)\n",
        "    x *= rescale # rescale the same as when trained\n",
        "\n",
        "    return x"
      ],
      "execution_count": 8,
      "outputs": []
    },
    {
      "cell_type": "code",
      "metadata": {
        "colab": {
          "base_uri": "https://localhost:8080/"
        },
        "id": "8w9fjTfr3lZ7",
        "outputId": "0aca19f3-d8f1-4948-d730-0d139cacb929"
      },
      "source": [
        "shape = (224, 224, 3)\n",
        "X_train, X_test = setup_generator('/content/food-101/train', '/content/food-101/test', 32, shape[:2])"
      ],
      "execution_count": 9,
      "outputs": [
        {
          "output_type": "stream",
          "text": [
            "Found 75750 images belonging to 101 classes.\n",
            "Found 25250 images belonging to 101 classes.\n"
          ],
          "name": "stdout"
        }
      ]
    },
    {
      "cell_type": "code",
      "metadata": {
        "colab": {
          "base_uri": "https://localhost:8080/"
        },
        "id": "7F8WUXwq6cDO",
        "outputId": "5d3609ea-923a-4006-eac2-2dba1a69f4df"
      },
      "source": [
        "X_train"
      ],
      "execution_count": 10,
      "outputs": [
        {
          "output_type": "execute_result",
          "data": {
            "text/plain": [
              "<keras.preprocessing.image.DirectoryIterator at 0x7fc137bb1510>"
            ]
          },
          "metadata": {
            "tags": []
          },
          "execution_count": 10
        }
      ]
    },
    {
      "cell_type": "code",
      "metadata": {
        "colab": {
          "base_uri": "https://localhost:8080/"
        },
        "id": "d2X7kVsG7_De",
        "outputId": "02d5bc4b-ed5f-435b-b4e3-28f0a03ae373"
      },
      "source": [
        "X_train.num_classes"
      ],
      "execution_count": 11,
      "outputs": [
        {
          "output_type": "execute_result",
          "data": {
            "text/plain": [
              "101"
            ]
          },
          "metadata": {
            "tags": []
          },
          "execution_count": 11
        }
      ]
    },
    {
      "cell_type": "code",
      "metadata": {
        "id": "Mm66jQKM_Izm"
      },
      "source": [
        "from keras.applications.resnet50 import ResNet50\n",
        "from tensorflow.python.keras.models import Sequential\n",
        "from tensorflow.python.keras.layers import Dense\n",
        "\n",
        "NUM_CLASSES = 101\n",
        "\n",
        "CHANNELS = 3\n",
        "\n",
        "IMAGE_RESIZE = 224\n",
        "RESNET50_POOLING_AVERAGE = 'avg'\n",
        "DENSE_LAYER_ACTIVATION = 'softmax'\n",
        "OBJECTIVE_FUNCTION = 'categorical_crossentropy'\n",
        "\n",
        "\n",
        "LOSS_METRICS = ['accuracy']\n",
        "\n",
        "\n",
        "NUM_EPOCHS = 10\n",
        "EARLY_STOP_PATIENCE = 3\n",
        "\n",
        "# These steps value should be proper FACTOR of no.-of-images in train & valid folders respectively\n",
        "# Training images processed in each step would be no.-of-train-images / STEPS_PER_EPOCH_TRAINING\n",
        "STEPS_PER_EPOCH_TRAINING = 10\n",
        "STEPS_PER_EPOCH_VALIDATION = 10\n",
        "\n",
        "# These steps value should be proper FACTOR of no.-of-images in train & valid folders respectively\n",
        "# NOTE that these BATCH* are for Keras ImageDataGenerator batching to fill epoch step input\n",
        "BATCH_SIZE_TRAINING = 100\n",
        "BATCH_SIZE_VALIDATION = 100\n",
        "\n",
        "# 테스트 배치의 개수\n",
        "BATCH_SIZE_TESTING = 1"
      ],
      "execution_count": 12,
      "outputs": []
    },
    {
      "cell_type": "code",
      "metadata": {
        "colab": {
          "base_uri": "https://localhost:8080/"
        },
        "id": "6knr4vFvBtDp",
        "outputId": "50de5f45-e70a-4565-c7e4-a8d9d7b86635"
      },
      "source": [
        "# 모델 제작\n",
        "model = Sequential()\n",
        "\n",
        "# 1st layer as the lumpsum weights from resnet50_weights_tf_dim_ordering_tf_kernels_notop.h5\n",
        "# NOTE that this layer will be set below as NOT TRAINABLE, i.e., use it as is\n",
        "# weights = resnet_weights_path 학습해둔 모델이 있으면 이렇게 불러올 수 있음\n",
        "model.add(ResNet50(include_top = False, pooling = RESNET50_POOLING_AVERAGE)) \n",
        "model.add(Dense(NUM_CLASSES, activation = DENSE_LAYER_ACTIVATION))\n",
        "\n",
        "# 이미 학습된 영역은 학습하지 않겠다고 설정하는 옵션 \n",
        "model.layers[0].trainable = False"
      ],
      "execution_count": 13,
      "outputs": [
        {
          "output_type": "stream",
          "text": [
            "Downloading data from https://storage.googleapis.com/tensorflow/keras-applications/resnet/resnet50_weights_tf_dim_ordering_tf_kernels_notop.h5\n",
            "94773248/94765736 [==============================] - 1s 0us/step\n"
          ],
          "name": "stdout"
        }
      ]
    },
    {
      "cell_type": "code",
      "metadata": {
        "colab": {
          "base_uri": "https://localhost:8080/"
        },
        "id": "8wP_itdpCP9W",
        "outputId": "ae20b178-04e4-4f78-d449-2eb9b37d2d69"
      },
      "source": [
        "# 모델 구조\n",
        "model.summary()"
      ],
      "execution_count": 14,
      "outputs": [
        {
          "output_type": "stream",
          "text": [
            "Model: \"sequential\"\n",
            "_________________________________________________________________\n",
            "Layer (type)                 Output Shape              Param #   \n",
            "=================================================================\n",
            "resnet50 (Functional)        (None, 2048)              23587712  \n",
            "_________________________________________________________________\n",
            "dense (Dense)                (None, 101)               206949    \n",
            "=================================================================\n",
            "Total params: 23,794,661\n",
            "Trainable params: 206,949\n",
            "Non-trainable params: 23,587,712\n",
            "_________________________________________________________________\n"
          ],
          "name": "stdout"
        }
      ]
    },
    {
      "cell_type": "code",
      "metadata": {
        "colab": {
          "base_uri": "https://localhost:8080/"
        },
        "id": "gYuxEVzfCSHv",
        "outputId": "ada734b0-7e44-4b06-a18c-3be4085d1dc3"
      },
      "source": [
        "from tensorflow.keras import optimizers\n",
        "\n",
        "# optimizer, compile\n",
        "sgd = optimizers.SGD(lr = 0.01, decay = 1e-6, momentum = 0.9, nesterov = True)\n",
        "model.compile(optimizer = sgd, loss = OBJECTIVE_FUNCTION, metrics = LOSS_METRICS)"
      ],
      "execution_count": 15,
      "outputs": [
        {
          "output_type": "stream",
          "text": [
            "/usr/local/lib/python3.7/dist-packages/tensorflow/python/keras/optimizer_v2/optimizer_v2.py:375: UserWarning: The `lr` argument is deprecated, use `learning_rate` instead.\n",
            "  \"The `lr` argument is deprecated, use `learning_rate` instead.\")\n"
          ],
          "name": "stderr"
        }
      ]
    },
    {
      "cell_type": "code",
      "metadata": {
        "colab": {
          "base_uri": "https://localhost:8080/"
        },
        "id": "qjd3RBKfCUOn",
        "outputId": "53e351c6-d95f-4578-ca2e-0fd1314b3509"
      },
      "source": [
        "from keras.callbacks import ModelCheckpoint, CSVLogger, LearningRateScheduler, ReduceLROnPlateau\n",
        "\n",
        "def schedule(epoch):\n",
        "    if epoch < 5:\n",
        "        return 0.001\n",
        "    elif epoch < 10:\n",
        "        return .0002\n",
        "    elif epoch < 15:\n",
        "        return 0.00002\n",
        "    else:\n",
        "        return .0000005\n",
        "lr_scheduler = LearningRateScheduler(schedule)\n",
        "csv_logger = CSVLogger('/content/project.log')\n",
        "checkpointer = ModelCheckpoint(filepath='/content/project.{epoch:02d}-{val_loss:.2f}.hdf5', verbose=1, save_best_only=True)\n",
        "\n",
        "model.fit(X_train, validation_data=X_test,\n",
        "                              epochs=50,\n",
        "                              steps_per_epoch=X_train.samples//32,\n",
        "                              validation_steps=X_test.samples//32,\n",
        "                               callbacks=[lr_scheduler, csv_logger, checkpointer])"
      ],
      "execution_count": null,
      "outputs": [
        {
          "output_type": "stream",
          "text": [
            "Epoch 1/50\n",
            "2367/2367 [==============================] - 1220s 502ms/step - loss: 4.6587 - accuracy: 0.0122 - val_loss: 4.6225 - val_accuracy: 0.0127\n",
            "\n",
            "Epoch 00001: val_loss improved from inf to 4.62251, saving model to /content/project.01-4.62.hdf5\n"
          ],
          "name": "stdout"
        },
        {
          "output_type": "stream",
          "text": [
            "/usr/local/lib/python3.7/dist-packages/tensorflow/python/keras/utils/generic_utils.py:497: CustomMaskWarning: Custom mask layers require a config and must override get_config. When loading, the custom mask layer must be passed to the custom_objects argument.\n",
            "  category=CustomMaskWarning)\n"
          ],
          "name": "stderr"
        },
        {
          "output_type": "stream",
          "text": [
            "Epoch 2/50\n",
            "2367/2367 [==============================] - 1171s 495ms/step - loss: 4.6301 - accuracy: 0.0139 - val_loss: 4.5997 - val_accuracy: 0.0157\n",
            "\n",
            "Epoch 00002: val_loss improved from 4.62251 to 4.59967, saving model to /content/project.02-4.60.hdf5\n",
            "Epoch 3/50\n",
            "2367/2367 [==============================] - 1139s 481ms/step - loss: 4.6137 - accuracy: 0.0153 - val_loss: 4.5729 - val_accuracy: 0.0192\n",
            "\n",
            "Epoch 00003: val_loss improved from 4.59967 to 4.57288, saving model to /content/project.03-4.57.hdf5\n",
            "Epoch 4/50\n",
            "2367/2367 [==============================] - 1121s 474ms/step - loss: 4.6062 - accuracy: 0.0167 - val_loss: 4.5745 - val_accuracy: 0.0253\n",
            "\n",
            "Epoch 00004: val_loss did not improve from 4.57288\n",
            "Epoch 5/50\n",
            "2367/2367 [==============================] - 1109s 468ms/step - loss: 4.5997 - accuracy: 0.0177 - val_loss: 4.5791 - val_accuracy: 0.0195\n",
            "\n",
            "Epoch 00005: val_loss did not improve from 4.57288\n",
            "Epoch 6/50\n",
            "1509/2367 [==================>...........] - ETA: 5:55 - loss: 4.5474 - accuracy: 0.0216"
          ],
          "name": "stdout"
        }
      ]
    },
    {
      "cell_type": "code",
      "metadata": {
        "id": "_njpl7R1E6V2"
      },
      "source": [
        ""
      ],
      "execution_count": null,
      "outputs": []
    }
  ]
}